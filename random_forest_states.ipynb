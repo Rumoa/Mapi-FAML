{
 "cells": [
  {
   "cell_type": "code",
   "execution_count": 1,
   "metadata": {},
   "outputs": [],
   "source": [
    "import pandas as pd\n",
    "import numpy as np"
   ]
  },
  {
   "cell_type": "code",
   "execution_count": 2,
   "metadata": {},
   "outputs": [],
   "source": [
    "import joblib"
   ]
  },
  {
   "cell_type": "code",
   "execution_count": 3,
   "metadata": {},
   "outputs": [
    {
     "data": {
      "text/html": [
       "<div>\n",
       "<style scoped>\n",
       "    .dataframe tbody tr th:only-of-type {\n",
       "        vertical-align: middle;\n",
       "    }\n",
       "\n",
       "    .dataframe tbody tr th {\n",
       "        vertical-align: top;\n",
       "    }\n",
       "\n",
       "    .dataframe thead th {\n",
       "        text-align: right;\n",
       "    }\n",
       "</style>\n",
       "<table border=\"1\" class=\"dataframe\">\n",
       "  <thead>\n",
       "    <tr style=\"text-align: right;\">\n",
       "      <th></th>\n",
       "      <th>0</th>\n",
       "      <th>1</th>\n",
       "      <th>2</th>\n",
       "      <th>3</th>\n",
       "      <th>4</th>\n",
       "      <th>5</th>\n",
       "      <th>6</th>\n",
       "      <th>7</th>\n",
       "      <th>8</th>\n",
       "      <th>9</th>\n",
       "      <th>10</th>\n",
       "      <th>11</th>\n",
       "      <th>12</th>\n",
       "      <th>13</th>\n",
       "      <th>14</th>\n",
       "      <th>15</th>\n",
       "      <th>entangled</th>\n",
       "    </tr>\n",
       "  </thead>\n",
       "  <tbody>\n",
       "    <tr>\n",
       "      <th>0</th>\n",
       "      <td>0.113325</td>\n",
       "      <td>0.043924</td>\n",
       "      <td>0.013853</td>\n",
       "      <td>-0.101828</td>\n",
       "      <td>0.306383</td>\n",
       "      <td>-0.055935</td>\n",
       "      <td>-0.106208</td>\n",
       "      <td>-0.240972</td>\n",
       "      <td>0.117857</td>\n",
       "      <td>0.220008</td>\n",
       "      <td>0.157771</td>\n",
       "      <td>-0.140158</td>\n",
       "      <td>0.552257</td>\n",
       "      <td>0.322585</td>\n",
       "      <td>0.156763</td>\n",
       "      <td>-0.517559</td>\n",
       "      <td>0.0</td>\n",
       "    </tr>\n",
       "    <tr>\n",
       "      <th>1</th>\n",
       "      <td>1.184758</td>\n",
       "      <td>0.184784</td>\n",
       "      <td>0.184784</td>\n",
       "      <td>0.109123</td>\n",
       "      <td>0.252158</td>\n",
       "      <td>0.148910</td>\n",
       "      <td>0.148910</td>\n",
       "      <td>0.087938</td>\n",
       "      <td>0.209068</td>\n",
       "      <td>0.123463</td>\n",
       "      <td>0.123463</td>\n",
       "      <td>0.072910</td>\n",
       "      <td>0.168479</td>\n",
       "      <td>0.099494</td>\n",
       "      <td>0.099494</td>\n",
       "      <td>0.058755</td>\n",
       "      <td>1.0</td>\n",
       "    </tr>\n",
       "    <tr>\n",
       "      <th>2</th>\n",
       "      <td>0.477289</td>\n",
       "      <td>0.015307</td>\n",
       "      <td>0.015307</td>\n",
       "      <td>0.028522</td>\n",
       "      <td>0.133023</td>\n",
       "      <td>0.247864</td>\n",
       "      <td>0.247864</td>\n",
       "      <td>0.461847</td>\n",
       "      <td>0.000336</td>\n",
       "      <td>0.000627</td>\n",
       "      <td>0.000627</td>\n",
       "      <td>0.001168</td>\n",
       "      <td>0.005447</td>\n",
       "      <td>0.010150</td>\n",
       "      <td>0.010150</td>\n",
       "      <td>0.018913</td>\n",
       "      <td>1.0</td>\n",
       "    </tr>\n",
       "    <tr>\n",
       "      <th>3</th>\n",
       "      <td>1.133226</td>\n",
       "      <td>0.059274</td>\n",
       "      <td>0.059274</td>\n",
       "      <td>0.018779</td>\n",
       "      <td>0.201729</td>\n",
       "      <td>0.063911</td>\n",
       "      <td>0.063911</td>\n",
       "      <td>0.020248</td>\n",
       "      <td>0.149464</td>\n",
       "      <td>0.047353</td>\n",
       "      <td>0.047353</td>\n",
       "      <td>0.015002</td>\n",
       "      <td>0.161158</td>\n",
       "      <td>0.051058</td>\n",
       "      <td>0.051058</td>\n",
       "      <td>0.016176</td>\n",
       "      <td>1.0</td>\n",
       "    </tr>\n",
       "    <tr>\n",
       "      <th>4</th>\n",
       "      <td>1.339046</td>\n",
       "      <td>0.090978</td>\n",
       "      <td>0.090978</td>\n",
       "      <td>0.029427</td>\n",
       "      <td>0.405802</td>\n",
       "      <td>0.131255</td>\n",
       "      <td>0.131255</td>\n",
       "      <td>0.042454</td>\n",
       "      <td>0.069769</td>\n",
       "      <td>0.022567</td>\n",
       "      <td>0.022567</td>\n",
       "      <td>0.007299</td>\n",
       "      <td>0.100657</td>\n",
       "      <td>0.032557</td>\n",
       "      <td>0.032557</td>\n",
       "      <td>0.010530</td>\n",
       "      <td>1.0</td>\n",
       "    </tr>\n",
       "  </tbody>\n",
       "</table>\n",
       "</div>"
      ],
      "text/plain": [
       "          0         1         2         3         4         5         6  \\\n",
       "0  0.113325  0.043924  0.013853 -0.101828  0.306383 -0.055935 -0.106208   \n",
       "1  1.184758  0.184784  0.184784  0.109123  0.252158  0.148910  0.148910   \n",
       "2  0.477289  0.015307  0.015307  0.028522  0.133023  0.247864  0.247864   \n",
       "3  1.133226  0.059274  0.059274  0.018779  0.201729  0.063911  0.063911   \n",
       "4  1.339046  0.090978  0.090978  0.029427  0.405802  0.131255  0.131255   \n",
       "\n",
       "          7         8         9        10        11        12        13  \\\n",
       "0 -0.240972  0.117857  0.220008  0.157771 -0.140158  0.552257  0.322585   \n",
       "1  0.087938  0.209068  0.123463  0.123463  0.072910  0.168479  0.099494   \n",
       "2  0.461847  0.000336  0.000627  0.000627  0.001168  0.005447  0.010150   \n",
       "3  0.020248  0.149464  0.047353  0.047353  0.015002  0.161158  0.051058   \n",
       "4  0.042454  0.069769  0.022567  0.022567  0.007299  0.100657  0.032557   \n",
       "\n",
       "         14        15  entangled  \n",
       "0  0.156763 -0.517559        0.0  \n",
       "1  0.099494  0.058755        1.0  \n",
       "2  0.010150  0.018913        1.0  \n",
       "3  0.051058  0.016176        1.0  \n",
       "4  0.032557  0.010530        1.0  "
      ]
     },
     "execution_count": 3,
     "metadata": {},
     "output_type": "execute_result"
    }
   ],
   "source": [
    "df = joblib.load(\"ghz+sep.job\")\n",
    "df.head()"
   ]
  },
  {
   "cell_type": "code",
   "execution_count": 4,
   "metadata": {},
   "outputs": [
    {
     "data": {
      "text/html": [
       "<div>\n",
       "<style scoped>\n",
       "    .dataframe tbody tr th:only-of-type {\n",
       "        vertical-align: middle;\n",
       "    }\n",
       "\n",
       "    .dataframe tbody tr th {\n",
       "        vertical-align: top;\n",
       "    }\n",
       "\n",
       "    .dataframe thead th {\n",
       "        text-align: right;\n",
       "    }\n",
       "</style>\n",
       "<table border=\"1\" class=\"dataframe\">\n",
       "  <thead>\n",
       "    <tr style=\"text-align: right;\">\n",
       "      <th></th>\n",
       "      <th>0</th>\n",
       "      <th>1</th>\n",
       "      <th>2</th>\n",
       "      <th>3</th>\n",
       "      <th>4</th>\n",
       "      <th>5</th>\n",
       "      <th>6</th>\n",
       "      <th>7</th>\n",
       "      <th>8</th>\n",
       "      <th>9</th>\n",
       "      <th>10</th>\n",
       "      <th>11</th>\n",
       "      <th>12</th>\n",
       "      <th>13</th>\n",
       "      <th>14</th>\n",
       "      <th>15</th>\n",
       "      <th>entangled</th>\n",
       "    </tr>\n",
       "  </thead>\n",
       "  <tbody>\n",
       "    <tr>\n",
       "      <th>count</th>\n",
       "      <td>2000.000000</td>\n",
       "      <td>2000.000000</td>\n",
       "      <td>2000.000000</td>\n",
       "      <td>2000.000000</td>\n",
       "      <td>2000.000000</td>\n",
       "      <td>2000.000000</td>\n",
       "      <td>2000.000000</td>\n",
       "      <td>2000.000000</td>\n",
       "      <td>2000.000000</td>\n",
       "      <td>2000.000000</td>\n",
       "      <td>2000.000000</td>\n",
       "      <td>2000.000000</td>\n",
       "      <td>2000.000000</td>\n",
       "      <td>2000.000000</td>\n",
       "      <td>2000.000000</td>\n",
       "      <td>2000.000000</td>\n",
       "      <td>2000.000000</td>\n",
       "    </tr>\n",
       "    <tr>\n",
       "      <th>mean</th>\n",
       "      <td>0.367340</td>\n",
       "      <td>0.023727</td>\n",
       "      <td>0.016705</td>\n",
       "      <td>0.031609</td>\n",
       "      <td>0.041320</td>\n",
       "      <td>0.020582</td>\n",
       "      <td>0.012744</td>\n",
       "      <td>0.035428</td>\n",
       "      <td>0.033313</td>\n",
       "      <td>0.020369</td>\n",
       "      <td>0.028359</td>\n",
       "      <td>0.035605</td>\n",
       "      <td>0.036786</td>\n",
       "      <td>0.022755</td>\n",
       "      <td>0.022591</td>\n",
       "      <td>0.038971</td>\n",
       "      <td>0.500000</td>\n",
       "    </tr>\n",
       "    <tr>\n",
       "      <th>std</th>\n",
       "      <td>0.493159</td>\n",
       "      <td>0.179637</td>\n",
       "      <td>0.183212</td>\n",
       "      <td>0.195012</td>\n",
       "      <td>0.199495</td>\n",
       "      <td>0.179376</td>\n",
       "      <td>0.189815</td>\n",
       "      <td>0.187877</td>\n",
       "      <td>0.204328</td>\n",
       "      <td>0.178790</td>\n",
       "      <td>0.191608</td>\n",
       "      <td>0.193126</td>\n",
       "      <td>0.199939</td>\n",
       "      <td>0.178380</td>\n",
       "      <td>0.188053</td>\n",
       "      <td>0.194959</td>\n",
       "      <td>0.500125</td>\n",
       "    </tr>\n",
       "    <tr>\n",
       "      <th>min</th>\n",
       "      <td>-0.802584</td>\n",
       "      <td>-0.730748</td>\n",
       "      <td>-0.719972</td>\n",
       "      <td>-0.728725</td>\n",
       "      <td>-0.772985</td>\n",
       "      <td>-0.706122</td>\n",
       "      <td>-0.716751</td>\n",
       "      <td>-0.712440</td>\n",
       "      <td>-0.774393</td>\n",
       "      <td>-0.900565</td>\n",
       "      <td>-0.727069</td>\n",
       "      <td>-0.783707</td>\n",
       "      <td>-0.680164</td>\n",
       "      <td>-0.640067</td>\n",
       "      <td>-0.757366</td>\n",
       "      <td>-0.849074</td>\n",
       "      <td>0.000000</td>\n",
       "    </tr>\n",
       "    <tr>\n",
       "      <th>25%</th>\n",
       "      <td>-0.012141</td>\n",
       "      <td>-0.001618</td>\n",
       "      <td>-0.014076</td>\n",
       "      <td>-0.008794</td>\n",
       "      <td>-0.005187</td>\n",
       "      <td>-0.018054</td>\n",
       "      <td>-0.023258</td>\n",
       "      <td>-0.005834</td>\n",
       "      <td>-0.005354</td>\n",
       "      <td>-0.005551</td>\n",
       "      <td>0.000147</td>\n",
       "      <td>-0.009528</td>\n",
       "      <td>0.000002</td>\n",
       "      <td>0.000008</td>\n",
       "      <td>-0.012607</td>\n",
       "      <td>-0.000034</td>\n",
       "      <td>0.000000</td>\n",
       "    </tr>\n",
       "    <tr>\n",
       "      <th>50%</th>\n",
       "      <td>0.260877</td>\n",
       "      <td>0.021035</td>\n",
       "      <td>0.018338</td>\n",
       "      <td>0.021876</td>\n",
       "      <td>0.025814</td>\n",
       "      <td>0.019645</td>\n",
       "      <td>0.017790</td>\n",
       "      <td>0.021458</td>\n",
       "      <td>0.023547</td>\n",
       "      <td>0.020330</td>\n",
       "      <td>0.023377</td>\n",
       "      <td>0.019737</td>\n",
       "      <td>0.026794</td>\n",
       "      <td>0.022814</td>\n",
       "      <td>0.022049</td>\n",
       "      <td>0.023872</td>\n",
       "      <td>0.500000</td>\n",
       "    </tr>\n",
       "    <tr>\n",
       "      <th>75%</th>\n",
       "      <td>0.813861</td>\n",
       "      <td>0.095146</td>\n",
       "      <td>0.093545</td>\n",
       "      <td>0.125921</td>\n",
       "      <td>0.131980</td>\n",
       "      <td>0.096238</td>\n",
       "      <td>0.093712</td>\n",
       "      <td>0.122515</td>\n",
       "      <td>0.124758</td>\n",
       "      <td>0.094593</td>\n",
       "      <td>0.108057</td>\n",
       "      <td>0.123935</td>\n",
       "      <td>0.130501</td>\n",
       "      <td>0.097526</td>\n",
       "      <td>0.099061</td>\n",
       "      <td>0.130668</td>\n",
       "      <td>1.000000</td>\n",
       "    </tr>\n",
       "    <tr>\n",
       "      <th>max</th>\n",
       "      <td>1.893274</td>\n",
       "      <td>0.844038</td>\n",
       "      <td>0.904768</td>\n",
       "      <td>0.788957</td>\n",
       "      <td>0.734901</td>\n",
       "      <td>0.673381</td>\n",
       "      <td>0.781083</td>\n",
       "      <td>0.823792</td>\n",
       "      <td>0.822416</td>\n",
       "      <td>0.656602</td>\n",
       "      <td>0.839480</td>\n",
       "      <td>0.743244</td>\n",
       "      <td>0.743952</td>\n",
       "      <td>0.840047</td>\n",
       "      <td>0.807889</td>\n",
       "      <td>0.729506</td>\n",
       "      <td>1.000000</td>\n",
       "    </tr>\n",
       "  </tbody>\n",
       "</table>\n",
       "</div>"
      ],
      "text/plain": [
       "                 0            1            2            3            4  \\\n",
       "count  2000.000000  2000.000000  2000.000000  2000.000000  2000.000000   \n",
       "mean      0.367340     0.023727     0.016705     0.031609     0.041320   \n",
       "std       0.493159     0.179637     0.183212     0.195012     0.199495   \n",
       "min      -0.802584    -0.730748    -0.719972    -0.728725    -0.772985   \n",
       "25%      -0.012141    -0.001618    -0.014076    -0.008794    -0.005187   \n",
       "50%       0.260877     0.021035     0.018338     0.021876     0.025814   \n",
       "75%       0.813861     0.095146     0.093545     0.125921     0.131980   \n",
       "max       1.893274     0.844038     0.904768     0.788957     0.734901   \n",
       "\n",
       "                 5            6            7            8            9  \\\n",
       "count  2000.000000  2000.000000  2000.000000  2000.000000  2000.000000   \n",
       "mean      0.020582     0.012744     0.035428     0.033313     0.020369   \n",
       "std       0.179376     0.189815     0.187877     0.204328     0.178790   \n",
       "min      -0.706122    -0.716751    -0.712440    -0.774393    -0.900565   \n",
       "25%      -0.018054    -0.023258    -0.005834    -0.005354    -0.005551   \n",
       "50%       0.019645     0.017790     0.021458     0.023547     0.020330   \n",
       "75%       0.096238     0.093712     0.122515     0.124758     0.094593   \n",
       "max       0.673381     0.781083     0.823792     0.822416     0.656602   \n",
       "\n",
       "                10           11           12           13           14  \\\n",
       "count  2000.000000  2000.000000  2000.000000  2000.000000  2000.000000   \n",
       "mean      0.028359     0.035605     0.036786     0.022755     0.022591   \n",
       "std       0.191608     0.193126     0.199939     0.178380     0.188053   \n",
       "min      -0.727069    -0.783707    -0.680164    -0.640067    -0.757366   \n",
       "25%       0.000147    -0.009528     0.000002     0.000008    -0.012607   \n",
       "50%       0.023377     0.019737     0.026794     0.022814     0.022049   \n",
       "75%       0.108057     0.123935     0.130501     0.097526     0.099061   \n",
       "max       0.839480     0.743244     0.743952     0.840047     0.807889   \n",
       "\n",
       "                15    entangled  \n",
       "count  2000.000000  2000.000000  \n",
       "mean      0.038971     0.500000  \n",
       "std       0.194959     0.500125  \n",
       "min      -0.849074     0.000000  \n",
       "25%      -0.000034     0.000000  \n",
       "50%       0.023872     0.500000  \n",
       "75%       0.130668     1.000000  \n",
       "max       0.729506     1.000000  "
      ]
     },
     "execution_count": 4,
     "metadata": {},
     "output_type": "execute_result"
    }
   ],
   "source": [
    "df.describe()"
   ]
  },
  {
   "cell_type": "markdown",
   "metadata": {},
   "source": [
    "## Random Forest \n",
    "### Raw data"
   ]
  },
  {
   "cell_type": "code",
   "execution_count": 5,
   "metadata": {},
   "outputs": [
    {
     "data": {
      "text/plain": [
       "1.0"
      ]
     },
     "execution_count": 5,
     "metadata": {},
     "output_type": "execute_result"
    }
   ],
   "source": [
    "from sklearn.ensemble import RandomForestClassifier\n",
    "from sklearn.model_selection import train_test_split\n",
    "\n",
    "clf = RandomForestClassifier(random_state=1)\n",
    "\n",
    "X = df.drop(columns=\"entangled\")\n",
    "y = df['entangled']\n",
    "X_train, X_test, y_train, y_test = train_test_split(X, y, test_size=0.2, random_state=1)\n",
    "\n",
    "clf.fit(X_train, y_train)\n",
    "clf.score(X_test, y_test)\n"
   ]
  },
  {
   "cell_type": "code",
   "execution_count": 6,
   "metadata": {},
   "outputs": [
    {
     "data": {
      "text/plain": [
       "array([1.    , 1.    , 1.    , 0.9975, 1.    ])"
      ]
     },
     "execution_count": 6,
     "metadata": {},
     "output_type": "execute_result"
    }
   ],
   "source": [
    "from sklearn.model_selection import cross_val_score\n",
    "scores = cross_val_score(clf, X, y, cv=5)\n",
    "scores"
   ]
  },
  {
   "cell_type": "code",
   "execution_count": 7,
   "metadata": {},
   "outputs": [
    {
     "data": {
      "text/plain": [
       "<AxesSubplot:>"
      ]
     },
     "execution_count": 7,
     "metadata": {},
     "output_type": "execute_result"
    },
    {
     "data": {
      "image/png": "[encoded data removed]",
      "text/plain": [
       "<Figure size 432x288 with 1 Axes>"
      ]
     },
     "metadata": {
      "needs_background": "light"
     },
     "output_type": "display_data"
    }
   ],
   "source": [
    "import seaborn as sns\n",
    "sns.boxplot(y = scores)"
   ]
  },
  {
   "cell_type": "markdown",
   "metadata": {},
   "source": [
    "### Dimensionality reduction"
   ]
  },
  {
   "cell_type": "code",
   "execution_count": 8,
   "metadata": {},
   "outputs": [
    {
     "data": {
      "image/png": "[encoded data removed]",
      "text/plain": [
       "<Figure size 432x288 with 1 Axes>"
      ]
     },
     "metadata": {
      "needs_background": "light"
     },
     "output_type": "display_data"
    }
   ],
   "source": [
    "import pandas as pd\n",
    "import matplotlib.pyplot as plt\n",
    "from sklearn.inspection import permutation_importance\n",
    "\n",
    "result = permutation_importance(\n",
    "    clf, X_test, y_test, n_repeats=10, random_state=42, n_jobs=2\n",
    ")\n",
    "\n",
    "\n",
    "forest_importances = pd.Series(result.importances_mean)\n",
    "fig, ax = plt.subplots()\n",
    "forest_importances.plot.bar(yerr=result.importances_std, ax=ax)\n",
    "ax.set_title(\"Feature importances using permutation on full model\")\n",
    "ax.set_ylabel(\"Mean accuracy decrease\")\n",
    "fig.tight_layout()\n",
    "plt.show()"
   ]
  },
  {
   "cell_type": "code",
   "execution_count": 9,
   "metadata": {},
   "outputs": [],
   "source": [
    "most_important = forest_importances.sort_values(ascending=False)[0:4].index\n",
    "reduced_df = df[most_important]"
   ]
  },
  {
   "cell_type": "code",
   "execution_count": 10,
   "metadata": {},
   "outputs": [
    {
     "data": {
      "text/html": [
       "<div>\n",
       "<style scoped>\n",
       "    .dataframe tbody tr th:only-of-type {\n",
       "        vertical-align: middle;\n",
       "    }\n",
       "\n",
       "    .dataframe tbody tr th {\n",
       "        vertical-align: top;\n",
       "    }\n",
       "\n",
       "    .dataframe thead th {\n",
       "        text-align: right;\n",
       "    }\n",
       "</style>\n",
       "<table border=\"1\" class=\"dataframe\">\n",
       "  <thead>\n",
       "    <tr style=\"text-align: right;\">\n",
       "      <th></th>\n",
       "      <th>0</th>\n",
       "      <th>6</th>\n",
       "      <th>2</th>\n",
       "      <th>1</th>\n",
       "    </tr>\n",
       "  </thead>\n",
       "  <tbody>\n",
       "    <tr>\n",
       "      <th>0</th>\n",
       "      <td>0.113325</td>\n",
       "      <td>-0.106208</td>\n",
       "      <td>0.013853</td>\n",
       "      <td>0.043924</td>\n",
       "    </tr>\n",
       "    <tr>\n",
       "      <th>1</th>\n",
       "      <td>1.184758</td>\n",
       "      <td>0.148910</td>\n",
       "      <td>0.184784</td>\n",
       "      <td>0.184784</td>\n",
       "    </tr>\n",
       "    <tr>\n",
       "      <th>2</th>\n",
       "      <td>0.477289</td>\n",
       "      <td>0.247864</td>\n",
       "      <td>0.015307</td>\n",
       "      <td>0.015307</td>\n",
       "    </tr>\n",
       "    <tr>\n",
       "      <th>3</th>\n",
       "      <td>1.133226</td>\n",
       "      <td>0.063911</td>\n",
       "      <td>0.059274</td>\n",
       "      <td>0.059274</td>\n",
       "    </tr>\n",
       "    <tr>\n",
       "      <th>4</th>\n",
       "      <td>1.339046</td>\n",
       "      <td>0.131255</td>\n",
       "      <td>0.090978</td>\n",
       "      <td>0.090978</td>\n",
       "    </tr>\n",
       "    <tr>\n",
       "      <th>...</th>\n",
       "      <td>...</td>\n",
       "      <td>...</td>\n",
       "      <td>...</td>\n",
       "      <td>...</td>\n",
       "    </tr>\n",
       "    <tr>\n",
       "      <th>1995</th>\n",
       "      <td>1.032156</td>\n",
       "      <td>0.004781</td>\n",
       "      <td>0.006013</td>\n",
       "      <td>0.006013</td>\n",
       "    </tr>\n",
       "    <tr>\n",
       "      <th>1996</th>\n",
       "      <td>0.510188</td>\n",
       "      <td>0.039641</td>\n",
       "      <td>0.047905</td>\n",
       "      <td>0.047905</td>\n",
       "    </tr>\n",
       "    <tr>\n",
       "      <th>1997</th>\n",
       "      <td>0.495134</td>\n",
       "      <td>0.088354</td>\n",
       "      <td>0.038120</td>\n",
       "      <td>0.038120</td>\n",
       "    </tr>\n",
       "    <tr>\n",
       "      <th>1998</th>\n",
       "      <td>0.021199</td>\n",
       "      <td>-0.346748</td>\n",
       "      <td>0.227296</td>\n",
       "      <td>0.386317</td>\n",
       "    </tr>\n",
       "    <tr>\n",
       "      <th>1999</th>\n",
       "      <td>0.557973</td>\n",
       "      <td>0.008230</td>\n",
       "      <td>0.029824</td>\n",
       "      <td>0.029824</td>\n",
       "    </tr>\n",
       "  </tbody>\n",
       "</table>\n",
       "<p>2000 rows × 4 columns</p>\n",
       "</div>"
      ],
      "text/plain": [
       "             0         6         2         1\n",
       "0     0.113325 -0.106208  0.013853  0.043924\n",
       "1     1.184758  0.148910  0.184784  0.184784\n",
       "2     0.477289  0.247864  0.015307  0.015307\n",
       "3     1.133226  0.063911  0.059274  0.059274\n",
       "4     1.339046  0.131255  0.090978  0.090978\n",
       "...        ...       ...       ...       ...\n",
       "1995  1.032156  0.004781  0.006013  0.006013\n",
       "1996  0.510188  0.039641  0.047905  0.047905\n",
       "1997  0.495134  0.088354  0.038120  0.038120\n",
       "1998  0.021199 -0.346748  0.227296  0.386317\n",
       "1999  0.557973  0.008230  0.029824  0.029824\n",
       "\n",
       "[2000 rows x 4 columns]"
      ]
     },
     "execution_count": 10,
     "metadata": {},
     "output_type": "execute_result"
    }
   ],
   "source": [
    "reduced_df"
   ]
  },
  {
   "cell_type": "code",
   "execution_count": 11,
   "metadata": {},
   "outputs": [],
   "source": [
    "from sklearn.ensemble import RandomForestClassifier\n",
    "from sklearn.model_selection import train_test_split\n",
    "\n",
    "clf = RandomForestClassifier(random_state=1)\n",
    "\n",
    "X = reduced_df\n",
    "y = df['entangled']\n",
    "X_train, X_test, y_train, y_test = train_test_split(X, y, test_size=0.2, random_state=1)\n",
    "\n"
   ]
  },
  {
   "cell_type": "code",
   "execution_count": 12,
   "metadata": {},
   "outputs": [
    {
     "data": {
      "text/plain": [
       "0.9975"
      ]
     },
     "execution_count": 12,
     "metadata": {},
     "output_type": "execute_result"
    }
   ],
   "source": [
    "clf.fit(X_train, y_train)\n",
    "clf.score(X_test, y_test)\n"
   ]
  },
  {
   "cell_type": "code",
   "execution_count": 13,
   "metadata": {},
   "outputs": [
    {
     "data": {
      "text/plain": [
       "array([0.995 , 0.995 , 1.    , 0.995 , 0.9975])"
      ]
     },
     "execution_count": 13,
     "metadata": {},
     "output_type": "execute_result"
    }
   ],
   "source": [
    "from sklearn.model_selection import cross_val_score\n",
    "scores = cross_val_score(clf, X, y, cv=5)\n",
    "scores"
   ]
  },
  {
   "cell_type": "code",
   "execution_count": 14,
   "metadata": {},
   "outputs": [
    {
     "data": {
      "text/plain": [
       "<AxesSubplot:>"
      ]
     },
     "execution_count": 14,
     "metadata": {},
     "output_type": "execute_result"
    },
    {
     "data": {
      "image/png": "[encoded data removed]",
      "text/plain": [
       "<Figure size 432x288 with 1 Axes>"
      ]
     },
     "metadata": {
      "needs_background": "light"
     },
     "output_type": "display_data"
    }
   ],
   "source": [
    "import seaborn as sns\n",
    "sns.boxplot(y = scores)"
   ]
  },
  {
   "cell_type": "code",
   "execution_count": null,
   "metadata": {},
   "outputs": [],
   "source": []
  }
 ],
 "metadata": {
  "interpreter": {
   "hash": "8e11f771aa81ca7c54d36d3a0f5c5121193ab3df27c10335e034f223aac86bc0"
  },
  "kernelspec": {
   "display_name": "Python 3.9.7 64-bit ('TFgpu': conda)",
   "language": "python",
   "name": "python3"
  },
  "language_info": {
   "codemirror_mode": {
    "name": "ipython",
    "version": 3
   },
   "file_extension": ".py",
   "mimetype": "text/x-python",
   "name": "python",
   "nbconvert_exporter": "python",
   "pygments_lexer": "ipython3",
   "version": "3.9.7"
  },
  "orig_nbformat": 4
 },
 "nbformat": 4,
 "nbformat_minor": 2
}
