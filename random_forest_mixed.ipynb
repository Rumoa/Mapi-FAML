{
 "cells": [
  {
   "cell_type": "code",
   "execution_count": 1,
   "metadata": {},
   "outputs": [],
   "source": [
    "import pandas as pd\n",
    "import numpy as np"
   ]
  },
  {
   "cell_type": "code",
   "execution_count": 2,
   "metadata": {},
   "outputs": [],
   "source": [
    "path = \"TFM/code/entanglement_2x2/input_data/received_from_DM/mixed_states\"\n",
    "\n",
    "df1 = pd.read_csv(path+\"/mixed_entangled.txt\", sep='\\s+', header = None)\n",
    "df2 = pd.read_csv(path+\"/mixed_separable.txt\", sep='\\s+', header = None)\n",
    "df1[\"entangled\"]= 1\n",
    "df2[\"entangled\"]= 0\n"
   ]
  },
  {
   "cell_type": "code",
   "execution_count": 3,
   "metadata": {},
   "outputs": [
    {
     "data": {
      "text/html": [
       "<div>\n",
       "<style scoped>\n",
       "    .dataframe tbody tr th:only-of-type {\n",
       "        vertical-align: middle;\n",
       "    }\n",
       "\n",
       "    .dataframe tbody tr th {\n",
       "        vertical-align: top;\n",
       "    }\n",
       "\n",
       "    .dataframe thead th {\n",
       "        text-align: right;\n",
       "    }\n",
       "</style>\n",
       "<table border=\"1\" class=\"dataframe\">\n",
       "  <thead>\n",
       "    <tr style=\"text-align: right;\">\n",
       "      <th></th>\n",
       "      <th>0</th>\n",
       "      <th>1</th>\n",
       "      <th>2</th>\n",
       "      <th>3</th>\n",
       "      <th>4</th>\n",
       "      <th>5</th>\n",
       "      <th>6</th>\n",
       "      <th>7</th>\n",
       "      <th>8</th>\n",
       "      <th>9</th>\n",
       "      <th>...</th>\n",
       "      <th>23</th>\n",
       "      <th>24</th>\n",
       "      <th>25</th>\n",
       "      <th>26</th>\n",
       "      <th>27</th>\n",
       "      <th>28</th>\n",
       "      <th>29</th>\n",
       "      <th>30</th>\n",
       "      <th>31</th>\n",
       "      <th>entangled</th>\n",
       "    </tr>\n",
       "  </thead>\n",
       "  <tbody>\n",
       "    <tr>\n",
       "      <th>0</th>\n",
       "      <td>0.245802</td>\n",
       "      <td>0.0</td>\n",
       "      <td>-0.030823</td>\n",
       "      <td>-0.023831</td>\n",
       "      <td>0.382758</td>\n",
       "      <td>-0.181260</td>\n",
       "      <td>-0.065570</td>\n",
       "      <td>-0.014380</td>\n",
       "      <td>-0.030823</td>\n",
       "      <td>0.023831</td>\n",
       "      <td>...</td>\n",
       "      <td>-0.070746</td>\n",
       "      <td>-0.065570</td>\n",
       "      <td>0.014380</td>\n",
       "      <td>0.009616</td>\n",
       "      <td>0.004554</td>\n",
       "      <td>-0.091500</td>\n",
       "      <td>0.070746</td>\n",
       "      <td>0.018333</td>\n",
       "      <td>0.0</td>\n",
       "      <td>0</td>\n",
       "    </tr>\n",
       "    <tr>\n",
       "      <th>1</th>\n",
       "      <td>0.020670</td>\n",
       "      <td>0.0</td>\n",
       "      <td>-0.040674</td>\n",
       "      <td>-0.064515</td>\n",
       "      <td>0.031250</td>\n",
       "      <td>-0.003254</td>\n",
       "      <td>-0.071650</td>\n",
       "      <td>-0.091134</td>\n",
       "      <td>-0.040674</td>\n",
       "      <td>0.064515</td>\n",
       "      <td>...</td>\n",
       "      <td>-0.149063</td>\n",
       "      <td>-0.071650</td>\n",
       "      <td>0.091134</td>\n",
       "      <td>0.425434</td>\n",
       "      <td>0.044302</td>\n",
       "      <td>-0.093977</td>\n",
       "      <td>0.149063</td>\n",
       "      <td>0.650174</td>\n",
       "      <td>0.0</td>\n",
       "      <td>0</td>\n",
       "    </tr>\n",
       "    <tr>\n",
       "      <th>2</th>\n",
       "      <td>0.008397</td>\n",
       "      <td>0.0</td>\n",
       "      <td>-0.030964</td>\n",
       "      <td>-0.056298</td>\n",
       "      <td>-0.047925</td>\n",
       "      <td>-0.042794</td>\n",
       "      <td>0.001882</td>\n",
       "      <td>-0.008184</td>\n",
       "      <td>-0.030964</td>\n",
       "      <td>0.056298</td>\n",
       "      <td>...</td>\n",
       "      <td>0.056298</td>\n",
       "      <td>0.001882</td>\n",
       "      <td>0.008184</td>\n",
       "      <td>0.047925</td>\n",
       "      <td>-0.042794</td>\n",
       "      <td>0.030964</td>\n",
       "      <td>-0.056298</td>\n",
       "      <td>0.008397</td>\n",
       "      <td>0.0</td>\n",
       "      <td>1</td>\n",
       "    </tr>\n",
       "    <tr>\n",
       "      <th>3</th>\n",
       "      <td>0.018756</td>\n",
       "      <td>0.0</td>\n",
       "      <td>-0.000101</td>\n",
       "      <td>-0.030422</td>\n",
       "      <td>-0.065151</td>\n",
       "      <td>0.023854</td>\n",
       "      <td>0.039042</td>\n",
       "      <td>0.105548</td>\n",
       "      <td>-0.000101</td>\n",
       "      <td>0.030422</td>\n",
       "      <td>...</td>\n",
       "      <td>-0.416297</td>\n",
       "      <td>0.039042</td>\n",
       "      <td>-0.105548</td>\n",
       "      <td>-0.171409</td>\n",
       "      <td>-0.062759</td>\n",
       "      <td>-0.001382</td>\n",
       "      <td>0.416297</td>\n",
       "      <td>0.675245</td>\n",
       "      <td>0.0</td>\n",
       "      <td>0</td>\n",
       "    </tr>\n",
       "    <tr>\n",
       "      <th>4</th>\n",
       "      <td>0.422774</td>\n",
       "      <td>0.0</td>\n",
       "      <td>0.127692</td>\n",
       "      <td>-0.127844</td>\n",
       "      <td>-0.169581</td>\n",
       "      <td>-0.062382</td>\n",
       "      <td>0.383668</td>\n",
       "      <td>-0.177585</td>\n",
       "      <td>0.127692</td>\n",
       "      <td>0.127844</td>\n",
       "      <td>...</td>\n",
       "      <td>0.127844</td>\n",
       "      <td>0.383668</td>\n",
       "      <td>0.177585</td>\n",
       "      <td>0.169581</td>\n",
       "      <td>-0.062382</td>\n",
       "      <td>-0.127692</td>\n",
       "      <td>-0.127844</td>\n",
       "      <td>0.422774</td>\n",
       "      <td>0.0</td>\n",
       "      <td>1</td>\n",
       "    </tr>\n",
       "  </tbody>\n",
       "</table>\n",
       "<p>5 rows × 33 columns</p>\n",
       "</div>"
      ],
      "text/plain": [
       "          0    1         2         3         4         5         6         7  \\\n",
       "0  0.245802  0.0 -0.030823 -0.023831  0.382758 -0.181260 -0.065570 -0.014380   \n",
       "1  0.020670  0.0 -0.040674 -0.064515  0.031250 -0.003254 -0.071650 -0.091134   \n",
       "2  0.008397  0.0 -0.030964 -0.056298 -0.047925 -0.042794  0.001882 -0.008184   \n",
       "3  0.018756  0.0 -0.000101 -0.030422 -0.065151  0.023854  0.039042  0.105548   \n",
       "4  0.422774  0.0  0.127692 -0.127844 -0.169581 -0.062382  0.383668 -0.177585   \n",
       "\n",
       "          8         9  ...        23        24        25        26        27  \\\n",
       "0 -0.030823  0.023831  ... -0.070746 -0.065570  0.014380  0.009616  0.004554   \n",
       "1 -0.040674  0.064515  ... -0.149063 -0.071650  0.091134  0.425434  0.044302   \n",
       "2 -0.030964  0.056298  ...  0.056298  0.001882  0.008184  0.047925 -0.042794   \n",
       "3 -0.000101  0.030422  ... -0.416297  0.039042 -0.105548 -0.171409 -0.062759   \n",
       "4  0.127692  0.127844  ...  0.127844  0.383668  0.177585  0.169581 -0.062382   \n",
       "\n",
       "         28        29        30   31  entangled  \n",
       "0 -0.091500  0.070746  0.018333  0.0          0  \n",
       "1 -0.093977  0.149063  0.650174  0.0          0  \n",
       "2  0.030964 -0.056298  0.008397  0.0          1  \n",
       "3 -0.001382  0.416297  0.675245  0.0          0  \n",
       "4 -0.127692 -0.127844  0.422774  0.0          1  \n",
       "\n",
       "[5 rows x 33 columns]"
      ]
     },
     "execution_count": 3,
     "metadata": {},
     "output_type": "execute_result"
    }
   ],
   "source": [
    "df = pd.concat([df1, df2])\n",
    "df = df.sample(frac=1, ignore_index=True, random_state=1)\n",
    "df.head()"
   ]
  },
  {
   "cell_type": "code",
   "execution_count": 5,
   "metadata": {},
   "outputs": [
    {
     "data": {
      "text/plain": [
       "['mixed.job']"
      ]
     },
     "execution_count": 5,
     "metadata": {},
     "output_type": "execute_result"
    }
   ],
   "source": [
    "import joblib\n",
    "joblib.dump(df, \"mixed.job\")"
   ]
  },
  {
   "cell_type": "code",
   "execution_count": 5,
   "metadata": {},
   "outputs": [
    {
     "data": {
      "text/html": [
       "<div>\n",
       "<style scoped>\n",
       "    .dataframe tbody tr th:only-of-type {\n",
       "        vertical-align: middle;\n",
       "    }\n",
       "\n",
       "    .dataframe tbody tr th {\n",
       "        vertical-align: top;\n",
       "    }\n",
       "\n",
       "    .dataframe thead th {\n",
       "        text-align: right;\n",
       "    }\n",
       "</style>\n",
       "<table border=\"1\" class=\"dataframe\">\n",
       "  <thead>\n",
       "    <tr style=\"text-align: right;\">\n",
       "      <th></th>\n",
       "      <th>0</th>\n",
       "      <th>1</th>\n",
       "      <th>2</th>\n",
       "      <th>3</th>\n",
       "      <th>4</th>\n",
       "      <th>5</th>\n",
       "      <th>6</th>\n",
       "      <th>7</th>\n",
       "      <th>8</th>\n",
       "      <th>9</th>\n",
       "      <th>...</th>\n",
       "      <th>23</th>\n",
       "      <th>24</th>\n",
       "      <th>25</th>\n",
       "      <th>26</th>\n",
       "      <th>27</th>\n",
       "      <th>28</th>\n",
       "      <th>29</th>\n",
       "      <th>30</th>\n",
       "      <th>31</th>\n",
       "      <th>entangled</th>\n",
       "    </tr>\n",
       "  </thead>\n",
       "  <tbody>\n",
       "    <tr>\n",
       "      <th>count</th>\n",
       "      <td>20000.000000</td>\n",
       "      <td>20000.0</td>\n",
       "      <td>20000.000000</td>\n",
       "      <td>20000.000000</td>\n",
       "      <td>20000.000000</td>\n",
       "      <td>20000.000000</td>\n",
       "      <td>20000.000000</td>\n",
       "      <td>20000.000000</td>\n",
       "      <td>20000.000000</td>\n",
       "      <td>20000.000000</td>\n",
       "      <td>...</td>\n",
       "      <td>20000.000000</td>\n",
       "      <td>20000.000000</td>\n",
       "      <td>20000.000000</td>\n",
       "      <td>20000.000000</td>\n",
       "      <td>20000.000000</td>\n",
       "      <td>20000.000000</td>\n",
       "      <td>20000.000000</td>\n",
       "      <td>20000.000000</td>\n",
       "      <td>20000.0</td>\n",
       "      <td>20000.000000</td>\n",
       "    </tr>\n",
       "    <tr>\n",
       "      <th>mean</th>\n",
       "      <td>0.248013</td>\n",
       "      <td>0.0</td>\n",
       "      <td>0.001867</td>\n",
       "      <td>-0.000295</td>\n",
       "      <td>0.000050</td>\n",
       "      <td>-0.000201</td>\n",
       "      <td>0.000875</td>\n",
       "      <td>0.001456</td>\n",
       "      <td>0.001867</td>\n",
       "      <td>0.000295</td>\n",
       "      <td>...</td>\n",
       "      <td>-0.000037</td>\n",
       "      <td>0.000875</td>\n",
       "      <td>-0.001456</td>\n",
       "      <td>0.000075</td>\n",
       "      <td>0.001390</td>\n",
       "      <td>0.001304</td>\n",
       "      <td>0.000037</td>\n",
       "      <td>0.249572</td>\n",
       "      <td>0.0</td>\n",
       "      <td>0.500000</td>\n",
       "    </tr>\n",
       "    <tr>\n",
       "      <th>std</th>\n",
       "      <td>0.226273</td>\n",
       "      <td>0.0</td>\n",
       "      <td>0.145258</td>\n",
       "      <td>0.147011</td>\n",
       "      <td>0.145714</td>\n",
       "      <td>0.145219</td>\n",
       "      <td>0.158063</td>\n",
       "      <td>0.159024</td>\n",
       "      <td>0.145258</td>\n",
       "      <td>0.147011</td>\n",
       "      <td>...</td>\n",
       "      <td>0.146949</td>\n",
       "      <td>0.158063</td>\n",
       "      <td>0.159024</td>\n",
       "      <td>0.146386</td>\n",
       "      <td>0.146581</td>\n",
       "      <td>0.145792</td>\n",
       "      <td>0.146949</td>\n",
       "      <td>0.226389</td>\n",
       "      <td>0.0</td>\n",
       "      <td>0.500013</td>\n",
       "    </tr>\n",
       "    <tr>\n",
       "      <th>min</th>\n",
       "      <td>0.000000</td>\n",
       "      <td>0.0</td>\n",
       "      <td>-0.496238</td>\n",
       "      <td>-0.499661</td>\n",
       "      <td>-0.497952</td>\n",
       "      <td>-0.497870</td>\n",
       "      <td>-0.499553</td>\n",
       "      <td>-0.498029</td>\n",
       "      <td>-0.496238</td>\n",
       "      <td>-0.489878</td>\n",
       "      <td>...</td>\n",
       "      <td>-0.496011</td>\n",
       "      <td>-0.499553</td>\n",
       "      <td>-0.499410</td>\n",
       "      <td>-0.494433</td>\n",
       "      <td>-0.492530</td>\n",
       "      <td>-0.497470</td>\n",
       "      <td>-0.486348</td>\n",
       "      <td>0.000000</td>\n",
       "      <td>0.0</td>\n",
       "      <td>0.000000</td>\n",
       "    </tr>\n",
       "    <tr>\n",
       "      <th>25%</th>\n",
       "      <td>0.052361</td>\n",
       "      <td>0.0</td>\n",
       "      <td>-0.086829</td>\n",
       "      <td>-0.089234</td>\n",
       "      <td>-0.088446</td>\n",
       "      <td>-0.088603</td>\n",
       "      <td>-0.069433</td>\n",
       "      <td>-0.070380</td>\n",
       "      <td>-0.086829</td>\n",
       "      <td>-0.088597</td>\n",
       "      <td>...</td>\n",
       "      <td>-0.087812</td>\n",
       "      <td>-0.069433</td>\n",
       "      <td>-0.073940</td>\n",
       "      <td>-0.091373</td>\n",
       "      <td>-0.086360</td>\n",
       "      <td>-0.086849</td>\n",
       "      <td>-0.089669</td>\n",
       "      <td>0.053559</td>\n",
       "      <td>0.0</td>\n",
       "      <td>0.000000</td>\n",
       "    </tr>\n",
       "    <tr>\n",
       "      <th>50%</th>\n",
       "      <td>0.197354</td>\n",
       "      <td>0.0</td>\n",
       "      <td>0.000121</td>\n",
       "      <td>-0.000004</td>\n",
       "      <td>0.000001</td>\n",
       "      <td>-0.000001</td>\n",
       "      <td>0.000197</td>\n",
       "      <td>0.000288</td>\n",
       "      <td>0.000121</td>\n",
       "      <td>0.000004</td>\n",
       "      <td>...</td>\n",
       "      <td>0.000005</td>\n",
       "      <td>0.000197</td>\n",
       "      <td>-0.000288</td>\n",
       "      <td>0.000000</td>\n",
       "      <td>0.000017</td>\n",
       "      <td>0.000063</td>\n",
       "      <td>-0.000005</td>\n",
       "      <td>0.198853</td>\n",
       "      <td>0.0</td>\n",
       "      <td>0.500000</td>\n",
       "    </tr>\n",
       "    <tr>\n",
       "      <th>75%</th>\n",
       "      <td>0.391840</td>\n",
       "      <td>0.0</td>\n",
       "      <td>0.089950</td>\n",
       "      <td>0.088597</td>\n",
       "      <td>0.089108</td>\n",
       "      <td>0.089943</td>\n",
       "      <td>0.072393</td>\n",
       "      <td>0.073940</td>\n",
       "      <td>0.089950</td>\n",
       "      <td>0.089234</td>\n",
       "      <td>...</td>\n",
       "      <td>0.089669</td>\n",
       "      <td>0.072393</td>\n",
       "      <td>0.070380</td>\n",
       "      <td>0.089716</td>\n",
       "      <td>0.090890</td>\n",
       "      <td>0.089873</td>\n",
       "      <td>0.087812</td>\n",
       "      <td>0.394987</td>\n",
       "      <td>0.0</td>\n",
       "      <td>1.000000</td>\n",
       "    </tr>\n",
       "    <tr>\n",
       "      <th>max</th>\n",
       "      <td>0.999958</td>\n",
       "      <td>0.0</td>\n",
       "      <td>0.493055</td>\n",
       "      <td>0.489878</td>\n",
       "      <td>0.494272</td>\n",
       "      <td>0.496895</td>\n",
       "      <td>0.499455</td>\n",
       "      <td>0.499410</td>\n",
       "      <td>0.493055</td>\n",
       "      <td>0.499661</td>\n",
       "      <td>...</td>\n",
       "      <td>0.486348</td>\n",
       "      <td>0.499455</td>\n",
       "      <td>0.498029</td>\n",
       "      <td>0.492176</td>\n",
       "      <td>0.497734</td>\n",
       "      <td>0.493338</td>\n",
       "      <td>0.496011</td>\n",
       "      <td>0.999808</td>\n",
       "      <td>0.0</td>\n",
       "      <td>1.000000</td>\n",
       "    </tr>\n",
       "  </tbody>\n",
       "</table>\n",
       "<p>8 rows × 33 columns</p>\n",
       "</div>"
      ],
      "text/plain": [
       "                  0        1             2             3             4  \\\n",
       "count  20000.000000  20000.0  20000.000000  20000.000000  20000.000000   \n",
       "mean       0.248013      0.0      0.001867     -0.000295      0.000050   \n",
       "std        0.226273      0.0      0.145258      0.147011      0.145714   \n",
       "min        0.000000      0.0     -0.496238     -0.499661     -0.497952   \n",
       "25%        0.052361      0.0     -0.086829     -0.089234     -0.088446   \n",
       "50%        0.197354      0.0      0.000121     -0.000004      0.000001   \n",
       "75%        0.391840      0.0      0.089950      0.088597      0.089108   \n",
       "max        0.999958      0.0      0.493055      0.489878      0.494272   \n",
       "\n",
       "                  5             6             7             8             9  \\\n",
       "count  20000.000000  20000.000000  20000.000000  20000.000000  20000.000000   \n",
       "mean      -0.000201      0.000875      0.001456      0.001867      0.000295   \n",
       "std        0.145219      0.158063      0.159024      0.145258      0.147011   \n",
       "min       -0.497870     -0.499553     -0.498029     -0.496238     -0.489878   \n",
       "25%       -0.088603     -0.069433     -0.070380     -0.086829     -0.088597   \n",
       "50%       -0.000001      0.000197      0.000288      0.000121      0.000004   \n",
       "75%        0.089943      0.072393      0.073940      0.089950      0.089234   \n",
       "max        0.496895      0.499455      0.499410      0.493055      0.499661   \n",
       "\n",
       "       ...            23            24            25            26  \\\n",
       "count  ...  20000.000000  20000.000000  20000.000000  20000.000000   \n",
       "mean   ...     -0.000037      0.000875     -0.001456      0.000075   \n",
       "std    ...      0.146949      0.158063      0.159024      0.146386   \n",
       "min    ...     -0.496011     -0.499553     -0.499410     -0.494433   \n",
       "25%    ...     -0.087812     -0.069433     -0.073940     -0.091373   \n",
       "50%    ...      0.000005      0.000197     -0.000288      0.000000   \n",
       "75%    ...      0.089669      0.072393      0.070380      0.089716   \n",
       "max    ...      0.486348      0.499455      0.498029      0.492176   \n",
       "\n",
       "                 27            28            29            30       31  \\\n",
       "count  20000.000000  20000.000000  20000.000000  20000.000000  20000.0   \n",
       "mean       0.001390      0.001304      0.000037      0.249572      0.0   \n",
       "std        0.146581      0.145792      0.146949      0.226389      0.0   \n",
       "min       -0.492530     -0.497470     -0.486348      0.000000      0.0   \n",
       "25%       -0.086360     -0.086849     -0.089669      0.053559      0.0   \n",
       "50%        0.000017      0.000063     -0.000005      0.198853      0.0   \n",
       "75%        0.090890      0.089873      0.087812      0.394987      0.0   \n",
       "max        0.497734      0.493338      0.496011      0.999808      0.0   \n",
       "\n",
       "          entangled  \n",
       "count  20000.000000  \n",
       "mean       0.500000  \n",
       "std        0.500013  \n",
       "min        0.000000  \n",
       "25%        0.000000  \n",
       "50%        0.500000  \n",
       "75%        1.000000  \n",
       "max        1.000000  \n",
       "\n",
       "[8 rows x 33 columns]"
      ]
     },
     "execution_count": 5,
     "metadata": {},
     "output_type": "execute_result"
    }
   ],
   "source": [
    "df.describe()"
   ]
  },
  {
   "cell_type": "markdown",
   "metadata": {},
   "source": [
    "## Random Forest \n",
    "### Raw data"
   ]
  },
  {
   "cell_type": "code",
   "execution_count": 22,
   "metadata": {},
   "outputs": [],
   "source": [
    "from sklearn.ensemble import RandomForestClassifier\n",
    "from sklearn.model_selection import train_test_split\n",
    "\n",
    "clf = RandomForestClassifier(random_state=1)\n",
    "\n",
    "X = df.drop(columns=\"entangled\")\n",
    "y = df['entangled']\n",
    "X_train, X_test, y_train, y_test = train_test_split(X, y, test_size=0.2, random_state=1)\n",
    "\n",
    "\n"
   ]
  },
  {
   "cell_type": "code",
   "execution_count": 8,
   "metadata": {},
   "outputs": [
    {
     "data": {
      "text/plain": [
       "0.99925"
      ]
     },
     "execution_count": 8,
     "metadata": {},
     "output_type": "execute_result"
    }
   ],
   "source": [
    "clf.fit(X_train, y_train)\n",
    "clf.score(X_test, y_test)"
   ]
  },
  {
   "cell_type": "code",
   "execution_count": 9,
   "metadata": {},
   "outputs": [
    {
     "data": {
      "text/plain": [
       "array([0.99975, 0.99975, 0.9995 , 0.99875, 0.99925])"
      ]
     },
     "execution_count": 9,
     "metadata": {},
     "output_type": "execute_result"
    }
   ],
   "source": [
    "from sklearn.model_selection import cross_val_score\n",
    "scores = cross_val_score(clf, X, y, cv=5)\n",
    "scores"
   ]
  },
  {
   "cell_type": "code",
   "execution_count": 10,
   "metadata": {},
   "outputs": [
    {
     "data": {
      "text/plain": [
       "<AxesSubplot:>"
      ]
     },
     "execution_count": 10,
     "metadata": {},
     "output_type": "execute_result"
    },
    {
     "data": {
      "image/png": "[encoded data removed]",
      "text/plain": [
       "<Figure size 432x288 with 1 Axes>"
      ]
     },
     "metadata": {
      "needs_background": "light"
     },
     "output_type": "display_data"
    }
   ],
   "source": [
    "import seaborn as sns\n",
    "sns.boxplot(y = scores)"
   ]
  },
  {
   "cell_type": "markdown",
   "metadata": {},
   "source": [
    "### Dimensionality reduction"
   ]
  },
  {
   "cell_type": "code",
   "execution_count": 25,
   "metadata": {},
   "outputs": [
    {
     "data": {
      "image/png": "[encoded data removed]",
      "text/plain": [
       "<Figure size 432x288 with 1 Axes>"
      ]
     },
     "metadata": {
      "needs_background": "light"
     },
     "output_type": "display_data"
    }
   ],
   "source": [
    "import matplotlib.pyplot as plt\n",
    "from sklearn.inspection import permutation_importance\n",
    "clf2 = RandomForestClassifier(random_state=1)\n",
    "clf2.fit(X_train, y_train)\n",
    "\n",
    "result = permutation_importance(\n",
    "    clf2, X_test, y_test, n_repeats=10, random_state=42, n_jobs=2\n",
    ")\n",
    "\n",
    "\n",
    "forest_importances = pd.Series(result.importances_mean)\n",
    "fig, ax = plt.subplots()\n",
    "forest_importances.plot.bar(yerr=result.importances_std, ax=ax)\n",
    "ax.set_title(\"Feature importances using permutation on full model\")\n",
    "ax.set_ylabel(\"Mean accuracy decrease\")\n",
    "# fig.tight_layout()\n",
    "plt.savefig(\"feature_importance_mixed.png\")\n",
    "plt.show()"
   ]
  },
  {
   "cell_type": "code",
   "execution_count": 12,
   "metadata": {},
   "outputs": [],
   "source": [
    "most_important = forest_importances.sort_values(ascending=False)[0:4].index\n",
    "reduced_df = df[most_important]"
   ]
  },
  {
   "cell_type": "code",
   "execution_count": 13,
   "metadata": {},
   "outputs": [
    {
     "data": {
      "text/html": [
       "<div>\n",
       "<style scoped>\n",
       "    .dataframe tbody tr th:only-of-type {\n",
       "        vertical-align: middle;\n",
       "    }\n",
       "\n",
       "    .dataframe tbody tr th {\n",
       "        vertical-align: top;\n",
       "    }\n",
       "\n",
       "    .dataframe thead th {\n",
       "        text-align: right;\n",
       "    }\n",
       "</style>\n",
       "<table border=\"1\" class=\"dataframe\">\n",
       "  <thead>\n",
       "    <tr style=\"text-align: right;\">\n",
       "      <th></th>\n",
       "      <th>30</th>\n",
       "      <th>0</th>\n",
       "      <th>20</th>\n",
       "      <th>10</th>\n",
       "    </tr>\n",
       "  </thead>\n",
       "  <tbody>\n",
       "    <tr>\n",
       "      <th>0</th>\n",
       "      <td>0.018333</td>\n",
       "      <td>0.245802</td>\n",
       "      <td>0.729689</td>\n",
       "      <td>0.006176</td>\n",
       "    </tr>\n",
       "    <tr>\n",
       "      <th>1</th>\n",
       "      <td>0.650174</td>\n",
       "      <td>0.020670</td>\n",
       "      <td>0.047759</td>\n",
       "      <td>0.281397</td>\n",
       "    </tr>\n",
       "    <tr>\n",
       "      <th>2</th>\n",
       "      <td>0.008397</td>\n",
       "      <td>0.008397</td>\n",
       "      <td>0.491603</td>\n",
       "      <td>0.491603</td>\n",
       "    </tr>\n",
       "    <tr>\n",
       "      <th>3</th>\n",
       "      <td>0.675245</td>\n",
       "      <td>0.018756</td>\n",
       "      <td>0.256655</td>\n",
       "      <td>0.049345</td>\n",
       "    </tr>\n",
       "    <tr>\n",
       "      <th>4</th>\n",
       "      <td>0.422774</td>\n",
       "      <td>0.422774</td>\n",
       "      <td>0.077226</td>\n",
       "      <td>0.077226</td>\n",
       "    </tr>\n",
       "    <tr>\n",
       "      <th>...</th>\n",
       "      <td>...</td>\n",
       "      <td>...</td>\n",
       "      <td>...</td>\n",
       "      <td>...</td>\n",
       "    </tr>\n",
       "    <tr>\n",
       "      <th>19995</th>\n",
       "      <td>0.021314</td>\n",
       "      <td>0.716615</td>\n",
       "      <td>0.087491</td>\n",
       "      <td>0.174580</td>\n",
       "    </tr>\n",
       "    <tr>\n",
       "      <th>19996</th>\n",
       "      <td>0.000268</td>\n",
       "      <td>0.011590</td>\n",
       "      <td>0.988139</td>\n",
       "      <td>0.000003</td>\n",
       "    </tr>\n",
       "    <tr>\n",
       "      <th>19997</th>\n",
       "      <td>0.239433</td>\n",
       "      <td>0.239433</td>\n",
       "      <td>0.260567</td>\n",
       "      <td>0.260567</td>\n",
       "    </tr>\n",
       "    <tr>\n",
       "      <th>19998</th>\n",
       "      <td>0.301240</td>\n",
       "      <td>0.181330</td>\n",
       "      <td>0.147765</td>\n",
       "      <td>0.369665</td>\n",
       "    </tr>\n",
       "    <tr>\n",
       "      <th>19999</th>\n",
       "      <td>0.177687</td>\n",
       "      <td>0.177687</td>\n",
       "      <td>0.322313</td>\n",
       "      <td>0.322313</td>\n",
       "    </tr>\n",
       "  </tbody>\n",
       "</table>\n",
       "<p>20000 rows × 4 columns</p>\n",
       "</div>"
      ],
      "text/plain": [
       "             30         0        20        10\n",
       "0      0.018333  0.245802  0.729689  0.006176\n",
       "1      0.650174  0.020670  0.047759  0.281397\n",
       "2      0.008397  0.008397  0.491603  0.491603\n",
       "3      0.675245  0.018756  0.256655  0.049345\n",
       "4      0.422774  0.422774  0.077226  0.077226\n",
       "...         ...       ...       ...       ...\n",
       "19995  0.021314  0.716615  0.087491  0.174580\n",
       "19996  0.000268  0.011590  0.988139  0.000003\n",
       "19997  0.239433  0.239433  0.260567  0.260567\n",
       "19998  0.301240  0.181330  0.147765  0.369665\n",
       "19999  0.177687  0.177687  0.322313  0.322313\n",
       "\n",
       "[20000 rows x 4 columns]"
      ]
     },
     "execution_count": 13,
     "metadata": {},
     "output_type": "execute_result"
    }
   ],
   "source": [
    "reduced_df"
   ]
  },
  {
   "cell_type": "code",
   "execution_count": 14,
   "metadata": {},
   "outputs": [],
   "source": [
    "from sklearn.ensemble import RandomForestClassifier\n",
    "from sklearn.model_selection import train_test_split\n",
    "\n",
    "clf = RandomForestClassifier(random_state=1)\n",
    "\n",
    "X = reduced_df\n",
    "y = df['entangled']\n",
    "X_train, X_test, y_train, y_test = train_test_split(X, y, test_size=0.2, random_state=1)\n",
    "\n"
   ]
  },
  {
   "cell_type": "code",
   "execution_count": 15,
   "metadata": {},
   "outputs": [
    {
     "data": {
      "text/plain": [
       "0.99925"
      ]
     },
     "execution_count": 15,
     "metadata": {},
     "output_type": "execute_result"
    }
   ],
   "source": [
    "clf.fit(X_train, y_train)\n",
    "clf.score(X_test, y_test)\n"
   ]
  },
  {
   "cell_type": "code",
   "execution_count": 16,
   "metadata": {},
   "outputs": [
    {
     "data": {
      "text/plain": [
       "array([1.     , 1.     , 0.99975, 0.9995 , 0.9995 ])"
      ]
     },
     "execution_count": 16,
     "metadata": {},
     "output_type": "execute_result"
    }
   ],
   "source": [
    "from sklearn.model_selection import cross_val_score\n",
    "scores = cross_val_score(clf, X, y, cv=5)\n",
    "scores"
   ]
  },
  {
   "cell_type": "code",
   "execution_count": 17,
   "metadata": {},
   "outputs": [
    {
     "data": {
      "text/plain": [
       "<AxesSubplot:>"
      ]
     },
     "execution_count": 17,
     "metadata": {},
     "output_type": "execute_result"
    },
    {
     "data": {
      "image/png": "[encoded data removed]",
      "text/plain": [
       "<Figure size 432x288 with 1 Axes>"
      ]
     },
     "metadata": {
      "needs_background": "light"
     },
     "output_type": "display_data"
    }
   ],
   "source": [
    "import seaborn as sns\n",
    "sns.boxplot(y = scores)"
   ]
  },
  {
   "cell_type": "code",
   "execution_count": 45,
   "metadata": {},
   "outputs": [
    {
     "data": {
      "text/plain": [
       "array([[ 0,  1,  2,  3,  4,  5,  6,  7],\n",
       "       [ 8,  9, 10, 11, 12, 13, 14, 15],\n",
       "       [16, 17, 18, 19, 20, 21, 22, 23],\n",
       "       [24, 25, 26, 27, 28, 29, 30, 31]])"
      ]
     },
     "execution_count": 45,
     "metadata": {},
     "output_type": "execute_result"
    }
   ],
   "source": [
    "(np.array(list(forest_importances.index))).reshape(4, -1)"
   ]
  }
 ],
 "metadata": {
  "interpreter": {
   "hash": "8e11f771aa81ca7c54d36d3a0f5c5121193ab3df27c10335e034f223aac86bc0"
  },
  "kernelspec": {
   "display_name": "Python 3.9.7 64-bit ('TFgpu': conda)",
   "language": "python",
   "name": "python3"
  },
  "language_info": {
   "codemirror_mode": {
    "name": "ipython",
    "version": 3
   },
   "file_extension": ".py",
   "mimetype": "text/x-python",
   "name": "python",
   "nbconvert_exporter": "python",
   "pygments_lexer": "ipython3",
   "version": "3.9.7"
  },
  "orig_nbformat": 4
 },
 "nbformat": 4,
 "nbformat_minor": 2
}
