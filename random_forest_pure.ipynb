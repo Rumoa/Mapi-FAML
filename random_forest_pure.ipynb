{
 "cells": [
  {
   "cell_type": "code",
   "execution_count": 1,
   "metadata": {},
   "outputs": [],
   "source": [
    "import pandas as pd\n",
    "import numpy as np"
   ]
  },
  {
   "cell_type": "code",
   "execution_count": 2,
   "metadata": {},
   "outputs": [],
   "source": [
    "path = \"TFM/code/entanglement_2x2/input_data/received_from_DM/pure_states\"\n",
    "\n",
    "df1 = pd.read_csv(path+\"/entangled_1.txt\", sep='\\s+', header = None)\n",
    "df2 = pd.read_csv(path+\"/separable.txt\", sep='\\s+', header = None)\n",
    "df1[\"entangled\"]= 1\n",
    "df2[\"entangled\"]= 0\n"
   ]
  },
  {
   "cell_type": "code",
   "execution_count": 3,
   "metadata": {},
   "outputs": [
    {
     "data": {
      "text/html": [
       "<div>\n",
       "<style scoped>\n",
       "    .dataframe tbody tr th:only-of-type {\n",
       "        vertical-align: middle;\n",
       "    }\n",
       "\n",
       "    .dataframe tbody tr th {\n",
       "        vertical-align: top;\n",
       "    }\n",
       "\n",
       "    .dataframe thead th {\n",
       "        text-align: right;\n",
       "    }\n",
       "</style>\n",
       "<table border=\"1\" class=\"dataframe\">\n",
       "  <thead>\n",
       "    <tr style=\"text-align: right;\">\n",
       "      <th></th>\n",
       "      <th>0</th>\n",
       "      <th>1</th>\n",
       "      <th>2</th>\n",
       "      <th>3</th>\n",
       "      <th>4</th>\n",
       "      <th>5</th>\n",
       "      <th>6</th>\n",
       "      <th>7</th>\n",
       "      <th>8</th>\n",
       "      <th>9</th>\n",
       "      <th>...</th>\n",
       "      <th>23</th>\n",
       "      <th>24</th>\n",
       "      <th>25</th>\n",
       "      <th>26</th>\n",
       "      <th>27</th>\n",
       "      <th>28</th>\n",
       "      <th>29</th>\n",
       "      <th>30</th>\n",
       "      <th>31</th>\n",
       "      <th>entangled</th>\n",
       "    </tr>\n",
       "  </thead>\n",
       "  <tbody>\n",
       "    <tr>\n",
       "      <th>0</th>\n",
       "      <td>0.120565</td>\n",
       "      <td>0.0</td>\n",
       "      <td>-0.008910</td>\n",
       "      <td>-0.016734</td>\n",
       "      <td>0.312781</td>\n",
       "      <td>-0.072717</td>\n",
       "      <td>-0.033207</td>\n",
       "      <td>-0.038040</td>\n",
       "      <td>-0.008910</td>\n",
       "      <td>0.016734</td>\n",
       "      <td>...</td>\n",
       "      <td>-0.118717</td>\n",
       "      <td>-0.033207</td>\n",
       "      <td>0.038040</td>\n",
       "      <td>0.007734</td>\n",
       "      <td>0.001798</td>\n",
       "      <td>-0.063206</td>\n",
       "      <td>0.118717</td>\n",
       "      <td>0.021149</td>\n",
       "      <td>0.0</td>\n",
       "      <td>0</td>\n",
       "    </tr>\n",
       "    <tr>\n",
       "      <th>1</th>\n",
       "      <td>0.911162</td>\n",
       "      <td>0.0</td>\n",
       "      <td>-0.057778</td>\n",
       "      <td>0.126487</td>\n",
       "      <td>0.039758</td>\n",
       "      <td>-0.242127</td>\n",
       "      <td>0.031091</td>\n",
       "      <td>0.020873</td>\n",
       "      <td>-0.057778</td>\n",
       "      <td>-0.126487</td>\n",
       "      <td>...</td>\n",
       "      <td>0.009173</td>\n",
       "      <td>0.031091</td>\n",
       "      <td>-0.020873</td>\n",
       "      <td>0.000926</td>\n",
       "      <td>0.005640</td>\n",
       "      <td>-0.004190</td>\n",
       "      <td>-0.009173</td>\n",
       "      <td>0.001539</td>\n",
       "      <td>0.0</td>\n",
       "      <td>0</td>\n",
       "    </tr>\n",
       "    <tr>\n",
       "      <th>2</th>\n",
       "      <td>0.200093</td>\n",
       "      <td>0.0</td>\n",
       "      <td>0.215727</td>\n",
       "      <td>-0.116066</td>\n",
       "      <td>-0.241033</td>\n",
       "      <td>-0.043729</td>\n",
       "      <td>0.190302</td>\n",
       "      <td>-0.061827</td>\n",
       "      <td>0.215727</td>\n",
       "      <td>0.116066</td>\n",
       "      <td>...</td>\n",
       "      <td>0.116066</td>\n",
       "      <td>0.190302</td>\n",
       "      <td>0.061827</td>\n",
       "      <td>0.241033</td>\n",
       "      <td>-0.043729</td>\n",
       "      <td>-0.215727</td>\n",
       "      <td>-0.116066</td>\n",
       "      <td>0.200093</td>\n",
       "      <td>0.0</td>\n",
       "      <td>1</td>\n",
       "    </tr>\n",
       "    <tr>\n",
       "      <th>3</th>\n",
       "      <td>0.000912</td>\n",
       "      <td>0.0</td>\n",
       "      <td>0.002687</td>\n",
       "      <td>-0.006999</td>\n",
       "      <td>0.003503</td>\n",
       "      <td>-0.000447</td>\n",
       "      <td>0.006890</td>\n",
       "      <td>-0.028197</td>\n",
       "      <td>0.002687</td>\n",
       "      <td>0.006999</td>\n",
       "      <td>...</td>\n",
       "      <td>-0.104909</td>\n",
       "      <td>0.006890</td>\n",
       "      <td>0.028197</td>\n",
       "      <td>0.236692</td>\n",
       "      <td>0.030203</td>\n",
       "      <td>0.040280</td>\n",
       "      <td>0.104909</td>\n",
       "      <td>0.923785</td>\n",
       "      <td>0.0</td>\n",
       "      <td>0</td>\n",
       "    </tr>\n",
       "    <tr>\n",
       "      <th>4</th>\n",
       "      <td>0.138334</td>\n",
       "      <td>0.0</td>\n",
       "      <td>-0.209380</td>\n",
       "      <td>-0.078681</td>\n",
       "      <td>0.174392</td>\n",
       "      <td>0.140065</td>\n",
       "      <td>0.070490</td>\n",
       "      <td>0.119027</td>\n",
       "      <td>-0.209380</td>\n",
       "      <td>0.078681</td>\n",
       "      <td>...</td>\n",
       "      <td>0.078681</td>\n",
       "      <td>0.070490</td>\n",
       "      <td>-0.119027</td>\n",
       "      <td>-0.174392</td>\n",
       "      <td>0.140065</td>\n",
       "      <td>0.209380</td>\n",
       "      <td>-0.078681</td>\n",
       "      <td>0.138334</td>\n",
       "      <td>0.0</td>\n",
       "      <td>1</td>\n",
       "    </tr>\n",
       "  </tbody>\n",
       "</table>\n",
       "<p>5 rows × 33 columns</p>\n",
       "</div>"
      ],
      "text/plain": [
       "          0    1         2         3         4         5         6         7  \\\n",
       "0  0.120565  0.0 -0.008910 -0.016734  0.312781 -0.072717 -0.033207 -0.038040   \n",
       "1  0.911162  0.0 -0.057778  0.126487  0.039758 -0.242127  0.031091  0.020873   \n",
       "2  0.200093  0.0  0.215727 -0.116066 -0.241033 -0.043729  0.190302 -0.061827   \n",
       "3  0.000912  0.0  0.002687 -0.006999  0.003503 -0.000447  0.006890 -0.028197   \n",
       "4  0.138334  0.0 -0.209380 -0.078681  0.174392  0.140065  0.070490  0.119027   \n",
       "\n",
       "          8         9  ...        23        24        25        26        27  \\\n",
       "0 -0.008910  0.016734  ... -0.118717 -0.033207  0.038040  0.007734  0.001798   \n",
       "1 -0.057778 -0.126487  ...  0.009173  0.031091 -0.020873  0.000926  0.005640   \n",
       "2  0.215727  0.116066  ...  0.116066  0.190302  0.061827  0.241033 -0.043729   \n",
       "3  0.002687  0.006999  ... -0.104909  0.006890  0.028197  0.236692  0.030203   \n",
       "4 -0.209380  0.078681  ...  0.078681  0.070490 -0.119027 -0.174392  0.140065   \n",
       "\n",
       "         28        29        30   31  entangled  \n",
       "0 -0.063206  0.118717  0.021149  0.0          0  \n",
       "1 -0.004190 -0.009173  0.001539  0.0          0  \n",
       "2 -0.215727 -0.116066  0.200093  0.0          1  \n",
       "3  0.040280  0.104909  0.923785  0.0          0  \n",
       "4  0.209380 -0.078681  0.138334  0.0          1  \n",
       "\n",
       "[5 rows x 33 columns]"
      ]
     },
     "execution_count": 3,
     "metadata": {},
     "output_type": "execute_result"
    }
   ],
   "source": [
    "df = pd.concat([df1, df2])\n",
    "df = df.sample(frac=1, ignore_index=True, random_state=1)\n",
    "df.head()"
   ]
  },
  {
   "cell_type": "code",
   "execution_count": 4,
   "metadata": {},
   "outputs": [
    {
     "data": {
      "text/plain": [
       "['pure.job']"
      ]
     },
     "execution_count": 4,
     "metadata": {},
     "output_type": "execute_result"
    }
   ],
   "source": [
    "import joblib\n",
    "joblib.dump(df, \"pure.job\")"
   ]
  },
  {
   "cell_type": "code",
   "execution_count": 4,
   "metadata": {},
   "outputs": [
    {
     "data": {
      "text/html": [
       "<div>\n",
       "<style scoped>\n",
       "    .dataframe tbody tr th:only-of-type {\n",
       "        vertical-align: middle;\n",
       "    }\n",
       "\n",
       "    .dataframe tbody tr th {\n",
       "        vertical-align: top;\n",
       "    }\n",
       "\n",
       "    .dataframe thead th {\n",
       "        text-align: right;\n",
       "    }\n",
       "</style>\n",
       "<table border=\"1\" class=\"dataframe\">\n",
       "  <thead>\n",
       "    <tr style=\"text-align: right;\">\n",
       "      <th></th>\n",
       "      <th>0</th>\n",
       "      <th>1</th>\n",
       "      <th>2</th>\n",
       "      <th>3</th>\n",
       "      <th>4</th>\n",
       "      <th>5</th>\n",
       "      <th>6</th>\n",
       "      <th>7</th>\n",
       "      <th>8</th>\n",
       "      <th>9</th>\n",
       "      <th>...</th>\n",
       "      <th>23</th>\n",
       "      <th>24</th>\n",
       "      <th>25</th>\n",
       "      <th>26</th>\n",
       "      <th>27</th>\n",
       "      <th>28</th>\n",
       "      <th>29</th>\n",
       "      <th>30</th>\n",
       "      <th>31</th>\n",
       "      <th>entangled</th>\n",
       "    </tr>\n",
       "  </thead>\n",
       "  <tbody>\n",
       "    <tr>\n",
       "      <th>count</th>\n",
       "      <td>20000.000000</td>\n",
       "      <td>20000.0</td>\n",
       "      <td>20000.000000</td>\n",
       "      <td>20000.000000</td>\n",
       "      <td>20000.000000</td>\n",
       "      <td>20000.000000</td>\n",
       "      <td>20000.000000</td>\n",
       "      <td>20000.000000</td>\n",
       "      <td>20000.000000</td>\n",
       "      <td>20000.000000</td>\n",
       "      <td>...</td>\n",
       "      <td>20000.000000</td>\n",
       "      <td>20000.000000</td>\n",
       "      <td>20000.000000</td>\n",
       "      <td>20000.000000</td>\n",
       "      <td>20000.000000</td>\n",
       "      <td>20000.000000</td>\n",
       "      <td>20000.000000</td>\n",
       "      <td>20000.000000</td>\n",
       "      <td>20000.0</td>\n",
       "      <td>20000.000000</td>\n",
       "    </tr>\n",
       "    <tr>\n",
       "      <th>mean</th>\n",
       "      <td>0.246100</td>\n",
       "      <td>0.0</td>\n",
       "      <td>0.001743</td>\n",
       "      <td>0.001047</td>\n",
       "      <td>0.000102</td>\n",
       "      <td>-0.001969</td>\n",
       "      <td>-0.000755</td>\n",
       "      <td>0.000439</td>\n",
       "      <td>0.001743</td>\n",
       "      <td>-0.001047</td>\n",
       "      <td>...</td>\n",
       "      <td>0.000043</td>\n",
       "      <td>-0.000755</td>\n",
       "      <td>-0.000439</td>\n",
       "      <td>-0.000356</td>\n",
       "      <td>0.000090</td>\n",
       "      <td>0.000599</td>\n",
       "      <td>-0.000043</td>\n",
       "      <td>0.249727</td>\n",
       "      <td>0.0</td>\n",
       "      <td>0.500000</td>\n",
       "    </tr>\n",
       "    <tr>\n",
       "      <th>std</th>\n",
       "      <td>0.224394</td>\n",
       "      <td>0.0</td>\n",
       "      <td>0.145413</td>\n",
       "      <td>0.145777</td>\n",
       "      <td>0.146636</td>\n",
       "      <td>0.145910</td>\n",
       "      <td>0.157832</td>\n",
       "      <td>0.158377</td>\n",
       "      <td>0.145413</td>\n",
       "      <td>0.145777</td>\n",
       "      <td>...</td>\n",
       "      <td>0.146966</td>\n",
       "      <td>0.157832</td>\n",
       "      <td>0.158377</td>\n",
       "      <td>0.146704</td>\n",
       "      <td>0.147392</td>\n",
       "      <td>0.146688</td>\n",
       "      <td>0.146966</td>\n",
       "      <td>0.225864</td>\n",
       "      <td>0.0</td>\n",
       "      <td>0.500013</td>\n",
       "    </tr>\n",
       "    <tr>\n",
       "      <th>min</th>\n",
       "      <td>0.000000</td>\n",
       "      <td>0.0</td>\n",
       "      <td>-0.497184</td>\n",
       "      <td>-0.490157</td>\n",
       "      <td>-0.496877</td>\n",
       "      <td>-0.499266</td>\n",
       "      <td>-0.499490</td>\n",
       "      <td>-0.496988</td>\n",
       "      <td>-0.497184</td>\n",
       "      <td>-0.496243</td>\n",
       "      <td>...</td>\n",
       "      <td>-0.496753</td>\n",
       "      <td>-0.499490</td>\n",
       "      <td>-0.499888</td>\n",
       "      <td>-0.498750</td>\n",
       "      <td>-0.499369</td>\n",
       "      <td>-0.494866</td>\n",
       "      <td>-0.495086</td>\n",
       "      <td>0.000000</td>\n",
       "      <td>0.0</td>\n",
       "      <td>0.000000</td>\n",
       "    </tr>\n",
       "    <tr>\n",
       "      <th>25%</th>\n",
       "      <td>0.052135</td>\n",
       "      <td>0.0</td>\n",
       "      <td>-0.086143</td>\n",
       "      <td>-0.088310</td>\n",
       "      <td>-0.089925</td>\n",
       "      <td>-0.091487</td>\n",
       "      <td>-0.071898</td>\n",
       "      <td>-0.071634</td>\n",
       "      <td>-0.086143</td>\n",
       "      <td>-0.089637</td>\n",
       "      <td>...</td>\n",
       "      <td>-0.090511</td>\n",
       "      <td>-0.071898</td>\n",
       "      <td>-0.072300</td>\n",
       "      <td>-0.090664</td>\n",
       "      <td>-0.089627</td>\n",
       "      <td>-0.090328</td>\n",
       "      <td>-0.090726</td>\n",
       "      <td>0.054308</td>\n",
       "      <td>0.0</td>\n",
       "      <td>0.000000</td>\n",
       "    </tr>\n",
       "    <tr>\n",
       "      <th>50%</th>\n",
       "      <td>0.196757</td>\n",
       "      <td>0.0</td>\n",
       "      <td>0.000036</td>\n",
       "      <td>0.000009</td>\n",
       "      <td>-0.000044</td>\n",
       "      <td>-0.000094</td>\n",
       "      <td>-0.000005</td>\n",
       "      <td>0.000348</td>\n",
       "      <td>0.000036</td>\n",
       "      <td>-0.000009</td>\n",
       "      <td>...</td>\n",
       "      <td>-0.000005</td>\n",
       "      <td>-0.000005</td>\n",
       "      <td>-0.000348</td>\n",
       "      <td>0.000032</td>\n",
       "      <td>0.000010</td>\n",
       "      <td>-0.000002</td>\n",
       "      <td>0.000005</td>\n",
       "      <td>0.199980</td>\n",
       "      <td>0.0</td>\n",
       "      <td>0.500000</td>\n",
       "    </tr>\n",
       "    <tr>\n",
       "      <th>75%</th>\n",
       "      <td>0.389116</td>\n",
       "      <td>0.0</td>\n",
       "      <td>0.089998</td>\n",
       "      <td>0.089637</td>\n",
       "      <td>0.090522</td>\n",
       "      <td>0.087847</td>\n",
       "      <td>0.072620</td>\n",
       "      <td>0.072300</td>\n",
       "      <td>0.089998</td>\n",
       "      <td>0.088310</td>\n",
       "      <td>...</td>\n",
       "      <td>0.090726</td>\n",
       "      <td>0.072620</td>\n",
       "      <td>0.071634</td>\n",
       "      <td>0.089575</td>\n",
       "      <td>0.089605</td>\n",
       "      <td>0.090533</td>\n",
       "      <td>0.090511</td>\n",
       "      <td>0.394089</td>\n",
       "      <td>0.0</td>\n",
       "      <td>1.000000</td>\n",
       "    </tr>\n",
       "    <tr>\n",
       "      <th>max</th>\n",
       "      <td>0.999846</td>\n",
       "      <td>0.0</td>\n",
       "      <td>0.495507</td>\n",
       "      <td>0.496243</td>\n",
       "      <td>0.494666</td>\n",
       "      <td>0.497415</td>\n",
       "      <td>0.494738</td>\n",
       "      <td>0.499888</td>\n",
       "      <td>0.495507</td>\n",
       "      <td>0.490157</td>\n",
       "      <td>...</td>\n",
       "      <td>0.495086</td>\n",
       "      <td>0.494738</td>\n",
       "      <td>0.496988</td>\n",
       "      <td>0.494774</td>\n",
       "      <td>0.495374</td>\n",
       "      <td>0.498618</td>\n",
       "      <td>0.496753</td>\n",
       "      <td>0.999751</td>\n",
       "      <td>0.0</td>\n",
       "      <td>1.000000</td>\n",
       "    </tr>\n",
       "  </tbody>\n",
       "</table>\n",
       "<p>8 rows × 33 columns</p>\n",
       "</div>"
      ],
      "text/plain": [
       "                  0        1             2             3             4  \\\n",
       "count  20000.000000  20000.0  20000.000000  20000.000000  20000.000000   \n",
       "mean       0.246100      0.0      0.001743      0.001047      0.000102   \n",
       "std        0.224394      0.0      0.145413      0.145777      0.146636   \n",
       "min        0.000000      0.0     -0.497184     -0.490157     -0.496877   \n",
       "25%        0.052135      0.0     -0.086143     -0.088310     -0.089925   \n",
       "50%        0.196757      0.0      0.000036      0.000009     -0.000044   \n",
       "75%        0.389116      0.0      0.089998      0.089637      0.090522   \n",
       "max        0.999846      0.0      0.495507      0.496243      0.494666   \n",
       "\n",
       "                  5             6             7             8             9  \\\n",
       "count  20000.000000  20000.000000  20000.000000  20000.000000  20000.000000   \n",
       "mean      -0.001969     -0.000755      0.000439      0.001743     -0.001047   \n",
       "std        0.145910      0.157832      0.158377      0.145413      0.145777   \n",
       "min       -0.499266     -0.499490     -0.496988     -0.497184     -0.496243   \n",
       "25%       -0.091487     -0.071898     -0.071634     -0.086143     -0.089637   \n",
       "50%       -0.000094     -0.000005      0.000348      0.000036     -0.000009   \n",
       "75%        0.087847      0.072620      0.072300      0.089998      0.088310   \n",
       "max        0.497415      0.494738      0.499888      0.495507      0.490157   \n",
       "\n",
       "       ...            23            24            25            26  \\\n",
       "count  ...  20000.000000  20000.000000  20000.000000  20000.000000   \n",
       "mean   ...      0.000043     -0.000755     -0.000439     -0.000356   \n",
       "std    ...      0.146966      0.157832      0.158377      0.146704   \n",
       "min    ...     -0.496753     -0.499490     -0.499888     -0.498750   \n",
       "25%    ...     -0.090511     -0.071898     -0.072300     -0.090664   \n",
       "50%    ...     -0.000005     -0.000005     -0.000348      0.000032   \n",
       "75%    ...      0.090726      0.072620      0.071634      0.089575   \n",
       "max    ...      0.495086      0.494738      0.496988      0.494774   \n",
       "\n",
       "                 27            28            29            30       31  \\\n",
       "count  20000.000000  20000.000000  20000.000000  20000.000000  20000.0   \n",
       "mean       0.000090      0.000599     -0.000043      0.249727      0.0   \n",
       "std        0.147392      0.146688      0.146966      0.225864      0.0   \n",
       "min       -0.499369     -0.494866     -0.495086      0.000000      0.0   \n",
       "25%       -0.089627     -0.090328     -0.090726      0.054308      0.0   \n",
       "50%        0.000010     -0.000002      0.000005      0.199980      0.0   \n",
       "75%        0.089605      0.090533      0.090511      0.394089      0.0   \n",
       "max        0.495374      0.498618      0.496753      0.999751      0.0   \n",
       "\n",
       "          entangled  \n",
       "count  20000.000000  \n",
       "mean       0.500000  \n",
       "std        0.500013  \n",
       "min        0.000000  \n",
       "25%        0.000000  \n",
       "50%        0.500000  \n",
       "75%        1.000000  \n",
       "max        1.000000  \n",
       "\n",
       "[8 rows x 33 columns]"
      ]
     },
     "execution_count": 4,
     "metadata": {},
     "output_type": "execute_result"
    }
   ],
   "source": [
    "df.describe()"
   ]
  },
  {
   "cell_type": "markdown",
   "metadata": {},
   "source": [
    "## Random Forest \n",
    "### Raw data"
   ]
  },
  {
   "cell_type": "code",
   "execution_count": 5,
   "metadata": {},
   "outputs": [
    {
     "data": {
      "text/plain": [
       "0.99925"
      ]
     },
     "execution_count": 5,
     "metadata": {},
     "output_type": "execute_result"
    }
   ],
   "source": [
    "from sklearn.ensemble import RandomForestClassifier\n",
    "from sklearn.model_selection import train_test_split\n",
    "\n",
    "clf = RandomForestClassifier(random_state=1)\n",
    "\n",
    "X = df.drop(columns=\"entangled\")\n",
    "y = df['entangled']\n",
    "X_train, X_test, y_train, y_test = train_test_split(X, y, test_size=0.2, random_state=1)\n",
    "\n",
    "clf.fit(X_train, y_train)\n",
    "clf.score(X_test, y_test)\n"
   ]
  },
  {
   "cell_type": "code",
   "execution_count": 6,
   "metadata": {},
   "outputs": [
    {
     "data": {
      "text/plain": [
       "array([0.9995 , 0.9995 , 0.99925, 0.99925, 0.99825])"
      ]
     },
     "execution_count": 6,
     "metadata": {},
     "output_type": "execute_result"
    }
   ],
   "source": [
    "from sklearn.model_selection import cross_val_score\n",
    "scores = cross_val_score(clf, X, y, cv=5)\n",
    "scores"
   ]
  },
  {
   "cell_type": "code",
   "execution_count": 7,
   "metadata": {},
   "outputs": [
    {
     "data": {
      "text/plain": [
       "<AxesSubplot:>"
      ]
     },
     "execution_count": 7,
     "metadata": {},
     "output_type": "execute_result"
    },
    {
     "data": {
      "image/png": "[encoded data removed]",
      "text/plain": [
       "<Figure size 432x288 with 1 Axes>"
      ]
     },
     "metadata": {
      "needs_background": "light"
     },
     "output_type": "display_data"
    }
   ],
   "source": [
    "import seaborn as sns\n",
    "sns.boxplot(y = scores)"
   ]
  },
  {
   "cell_type": "markdown",
   "metadata": {},
   "source": [
    "### Dimensionality reduction"
   ]
  },
  {
   "cell_type": "code",
   "execution_count": 8,
   "metadata": {},
   "outputs": [
    {
     "data": {
      "image/png": "[encoded data removed]",
      "text/plain": [
       "<Figure size 432x288 with 1 Axes>"
      ]
     },
     "metadata": {
      "needs_background": "light"
     },
     "output_type": "display_data"
    }
   ],
   "source": [
    "import matplotlib.pyplot as plt\n",
    "from sklearn.inspection import permutation_importance\n",
    "\n",
    "result = permutation_importance(\n",
    "    clf, X_test, y_test, n_repeats=10, random_state=42, n_jobs=2\n",
    ")\n",
    "\n",
    "\n",
    "forest_importances = pd.Series(result.importances_mean)\n",
    "fig, ax = plt.subplots()\n",
    "forest_importances.plot.bar(yerr=result.importances_std, ax=ax)\n",
    "ax.set_title(\"Feature importances using permutation on full model\")\n",
    "ax.set_ylabel(\"Mean accuracy decrease\")\n",
    "fig.tight_layout()\n",
    "plt.show()"
   ]
  },
  {
   "cell_type": "code",
   "execution_count": 9,
   "metadata": {},
   "outputs": [],
   "source": [
    "most_important = forest_importances.sort_values(ascending=False)[0:4].index\n",
    "reduced_df = df[most_important]"
   ]
  },
  {
   "cell_type": "code",
   "execution_count": 10,
   "metadata": {},
   "outputs": [
    {
     "data": {
      "text/html": [
       "<div>\n",
       "<style scoped>\n",
       "    .dataframe tbody tr th:only-of-type {\n",
       "        vertical-align: middle;\n",
       "    }\n",
       "\n",
       "    .dataframe tbody tr th {\n",
       "        vertical-align: top;\n",
       "    }\n",
       "\n",
       "    .dataframe thead th {\n",
       "        text-align: right;\n",
       "    }\n",
       "</style>\n",
       "<table border=\"1\" class=\"dataframe\">\n",
       "  <thead>\n",
       "    <tr style=\"text-align: right;\">\n",
       "      <th></th>\n",
       "      <th>30</th>\n",
       "      <th>0</th>\n",
       "      <th>20</th>\n",
       "      <th>10</th>\n",
       "    </tr>\n",
       "  </thead>\n",
       "  <tbody>\n",
       "    <tr>\n",
       "      <th>0</th>\n",
       "      <td>0.021149</td>\n",
       "      <td>0.120565</td>\n",
       "      <td>0.855305</td>\n",
       "      <td>0.002981</td>\n",
       "    </tr>\n",
       "    <tr>\n",
       "      <th>1</th>\n",
       "      <td>0.001539</td>\n",
       "      <td>0.911162</td>\n",
       "      <td>0.066076</td>\n",
       "      <td>0.021223</td>\n",
       "    </tr>\n",
       "    <tr>\n",
       "      <th>2</th>\n",
       "      <td>0.200093</td>\n",
       "      <td>0.200093</td>\n",
       "      <td>0.299907</td>\n",
       "      <td>0.299907</td>\n",
       "    </tr>\n",
       "    <tr>\n",
       "      <th>3</th>\n",
       "      <td>0.923785</td>\n",
       "      <td>0.000912</td>\n",
       "      <td>0.013670</td>\n",
       "      <td>0.061633</td>\n",
       "    </tr>\n",
       "    <tr>\n",
       "      <th>4</th>\n",
       "      <td>0.138334</td>\n",
       "      <td>0.138334</td>\n",
       "      <td>0.361666</td>\n",
       "      <td>0.361666</td>\n",
       "    </tr>\n",
       "    <tr>\n",
       "      <th>...</th>\n",
       "      <td>...</td>\n",
       "      <td>...</td>\n",
       "      <td>...</td>\n",
       "      <td>...</td>\n",
       "    </tr>\n",
       "    <tr>\n",
       "      <th>19995</th>\n",
       "      <td>0.164082</td>\n",
       "      <td>0.003969</td>\n",
       "      <td>0.000784</td>\n",
       "      <td>0.831165</td>\n",
       "    </tr>\n",
       "    <tr>\n",
       "      <th>19996</th>\n",
       "      <td>0.000033</td>\n",
       "      <td>0.711332</td>\n",
       "      <td>0.288554</td>\n",
       "      <td>0.000081</td>\n",
       "    </tr>\n",
       "    <tr>\n",
       "      <th>19997</th>\n",
       "      <td>0.420337</td>\n",
       "      <td>0.420337</td>\n",
       "      <td>0.079663</td>\n",
       "      <td>0.079663</td>\n",
       "    </tr>\n",
       "    <tr>\n",
       "      <th>19998</th>\n",
       "      <td>0.229846</td>\n",
       "      <td>0.264076</td>\n",
       "      <td>0.195318</td>\n",
       "      <td>0.310759</td>\n",
       "    </tr>\n",
       "    <tr>\n",
       "      <th>19999</th>\n",
       "      <td>0.332232</td>\n",
       "      <td>0.332232</td>\n",
       "      <td>0.167768</td>\n",
       "      <td>0.167768</td>\n",
       "    </tr>\n",
       "  </tbody>\n",
       "</table>\n",
       "<p>20000 rows × 4 columns</p>\n",
       "</div>"
      ],
      "text/plain": [
       "             30         0        20        10\n",
       "0      0.021149  0.120565  0.855305  0.002981\n",
       "1      0.001539  0.911162  0.066076  0.021223\n",
       "2      0.200093  0.200093  0.299907  0.299907\n",
       "3      0.923785  0.000912  0.013670  0.061633\n",
       "4      0.138334  0.138334  0.361666  0.361666\n",
       "...         ...       ...       ...       ...\n",
       "19995  0.164082  0.003969  0.000784  0.831165\n",
       "19996  0.000033  0.711332  0.288554  0.000081\n",
       "19997  0.420337  0.420337  0.079663  0.079663\n",
       "19998  0.229846  0.264076  0.195318  0.310759\n",
       "19999  0.332232  0.332232  0.167768  0.167768\n",
       "\n",
       "[20000 rows x 4 columns]"
      ]
     },
     "execution_count": 10,
     "metadata": {},
     "output_type": "execute_result"
    }
   ],
   "source": [
    "reduced_df"
   ]
  },
  {
   "cell_type": "code",
   "execution_count": 11,
   "metadata": {},
   "outputs": [],
   "source": [
    "from sklearn.ensemble import RandomForestClassifier\n",
    "from sklearn.model_selection import train_test_split\n",
    "\n",
    "clf = RandomForestClassifier(random_state=1)\n",
    "\n",
    "X = reduced_df\n",
    "y = df['entangled']\n",
    "X_train, X_test, y_train, y_test = train_test_split(X, y, test_size=0.2, random_state=1)\n",
    "\n"
   ]
  },
  {
   "cell_type": "code",
   "execution_count": 12,
   "metadata": {},
   "outputs": [
    {
     "data": {
      "text/plain": [
       "1.0"
      ]
     },
     "execution_count": 12,
     "metadata": {},
     "output_type": "execute_result"
    }
   ],
   "source": [
    "clf.fit(X_train, y_train)\n",
    "clf.score(X_test, y_test)\n"
   ]
  },
  {
   "cell_type": "code",
   "execution_count": 13,
   "metadata": {},
   "outputs": [
    {
     "data": {
      "text/plain": [
       "array([0.99975, 0.99975, 1.     , 1.     , 0.99975])"
      ]
     },
     "execution_count": 13,
     "metadata": {},
     "output_type": "execute_result"
    }
   ],
   "source": [
    "from sklearn.model_selection import cross_val_score\n",
    "scores = cross_val_score(clf, X, y, cv=5)\n",
    "scores"
   ]
  },
  {
   "cell_type": "code",
   "execution_count": 14,
   "metadata": {},
   "outputs": [
    {
     "data": {
      "text/plain": [
       "<AxesSubplot:>"
      ]
     },
     "execution_count": 14,
     "metadata": {},
     "output_type": "execute_result"
    },
    {
     "data": {
      "image/png": "[encoded data removed]",
      "text/plain": [
       "<Figure size 432x288 with 1 Axes>"
      ]
     },
     "metadata": {
      "needs_background": "light"
     },
     "output_type": "display_data"
    }
   ],
   "source": [
    "import seaborn as sns\n",
    "sns.boxplot(y = scores)"
   ]
  },
  {
   "cell_type": "code",
   "execution_count": null,
   "metadata": {},
   "outputs": [],
   "source": []
  }
 ],
 "metadata": {
  "interpreter": {
   "hash": "8e11f771aa81ca7c54d36d3a0f5c5121193ab3df27c10335e034f223aac86bc0"
  },
  "kernelspec": {
   "display_name": "Python 3.9.7 64-bit ('TFgpu': conda)",
   "language": "python",
   "name": "python3"
  },
  "language_info": {
   "codemirror_mode": {
    "name": "ipython",
    "version": 3
   },
   "file_extension": ".py",
   "mimetype": "text/x-python",
   "name": "python",
   "nbconvert_exporter": "python",
   "pygments_lexer": "ipython3",
   "version": "3.9.7"
  },
  "orig_nbformat": 4
 },
 "nbformat": 4,
 "nbformat_minor": 2
}
